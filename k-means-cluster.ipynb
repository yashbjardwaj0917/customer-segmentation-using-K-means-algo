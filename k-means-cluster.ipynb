{
 "cells": [
  {
   "cell_type": "markdown",
   "id": "70637206",
   "metadata": {
    "papermill": {
     "duration": 0.005821,
     "end_time": "2022-07-12T11:33:07.753589",
     "exception": false,
     "start_time": "2022-07-12T11:33:07.747768",
     "status": "completed"
    },
    "tags": []
   },
   "source": [
    "**What is Clustering ?**\n",
    "Clustering is the process of diving the dataset into groups, consisting of similar data points\n",
    "\n",
    "i) Points in the same group are as similar as possible\n",
    "ii) Points in the different group are as disimilar as possible\n",
    "\n",
    "**Examples of Clustering are :**\n",
    "\n",
    "i) Group of diners in a restaurant\n",
    "ii) Items are arranged in a mall\n",
    "\n",
    "**Types of Clustering**\n",
    "\n",
    "There  are 3 types of clustering :-\n",
    "1) Exclusive Clustering:\n",
    "- Data point/Item belongs to one cluster.\n",
    "- It is known as Hard Clustering.\n",
    "- For eg:- K-Means Clustering\n",
    "\n",
    "2) Overlapping Clustering:\n",
    "- Data point/Item belongs to multiple cluster.\n",
    "- It is known as Soft Clustering.\n",
    "- For eg:- Fuzzy / C-Means Clustering\n",
    "\n",
    "3) Hierarchical Clustering\n",
    "- In this clustering we developed the hierarchy of clusters in the form of a tree and the tree shaped structure is  known as the dendrogram.\n",
    "\n",
    "- Sometime the results of k-means in clustering and hierarchical clustering may look similar but they both differ depending on how they work as there is no requirement to predetermine the number of clusters as we did in the K means algorithm.\n",
    "\n",
    "**What is K-Means Clustering?**\n",
    "\n",
    "K-Means is a clustering algorithm who's main goal is to group similar elements or data points into a cluster\n",
    "\n",
    "\" K \" in K-Means Clustering represent the number of cluster.\n",
    "\n",
    "**Algorithm:**\n",
    "1) select the number of clusters to be identified eg:- select a value for k=3 in this case\n",
    "\n",
    "2) Randomly select 3 distinct data point\n",
    "\n",
    "3) Measure the distance between the 1st point and selected 3 clusters\n",
    "\n",
    "4) Assign the 1st point to the nearest cluster\n",
    "\n",
    "5) Calculate the cluster mean using the new data point\n",
    "\n",
    "6) Repeat these steps again till all points get covered"
   ]
  },
  {
   "cell_type": "markdown",
   "id": "267aab40",
   "metadata": {
    "papermill": {
     "duration": 0.004536,
     "end_time": "2022-07-12T11:33:07.763100",
     "exception": false,
     "start_time": "2022-07-12T11:33:07.758564",
     "status": "completed"
    },
    "tags": []
   },
   "source": [
    "**Import required libraries**"
   ]
  },
  {
   "cell_type": "code",
   "execution_count": 1,
   "id": "290ac580",
   "metadata": {
    "_cell_guid": "b1076dfc-b9ad-4769-8c92-a6c4dae69d19",
    "_uuid": "8f2839f25d086af736a60e9eeb907d3b93b6e0e5",
    "execution": {
     "iopub.execute_input": "2022-07-12T11:33:07.775309Z",
     "iopub.status.busy": "2022-07-12T11:33:07.774717Z",
     "iopub.status.idle": "2022-07-12T11:33:09.455966Z",
     "shell.execute_reply": "2022-07-12T11:33:09.454373Z"
    },
    "papermill": {
     "duration": 1.690973,
     "end_time": "2022-07-12T11:33:09.458821",
     "exception": false,
     "start_time": "2022-07-12T11:33:07.767848",
     "status": "completed"
    },
    "tags": []
   },
   "outputs": [],
   "source": [
    "import pandas as pd\n",
    "import matplotlib.pyplot as mp\n",
    "import seaborn as sb\n",
    "from sklearn.cluster import KMeans"
   ]
  },
  {
   "cell_type": "markdown",
   "id": "9e51d561",
   "metadata": {
    "papermill": {
     "duration": 0.004589,
     "end_time": "2022-07-12T11:33:09.468688",
     "exception": false,
     "start_time": "2022-07-12T11:33:09.464099",
     "status": "completed"
    },
    "tags": []
   },
   "source": [
    "**Load the dataset using Pandas**"
   ]
  },
  {
   "cell_type": "code",
   "execution_count": 2,
   "id": "084ee585",
   "metadata": {
    "execution": {
     "iopub.execute_input": "2022-07-12T11:33:09.480300Z",
     "iopub.status.busy": "2022-07-12T11:33:09.479854Z",
     "iopub.status.idle": "2022-07-12T11:33:09.503388Z",
     "shell.execute_reply": "2022-07-12T11:33:09.502192Z"
    },
    "papermill": {
     "duration": 0.032601,
     "end_time": "2022-07-12T11:33:09.506173",
     "exception": false,
     "start_time": "2022-07-12T11:33:09.473572",
     "status": "completed"
    },
    "tags": []
   },
   "outputs": [],
   "source": [
    "dataset = pd.read_csv('../input/mall-customers/Mall_Customers.csv')"
   ]
  },
  {
   "cell_type": "code",
   "execution_count": 3,
   "id": "ce4593c7",
   "metadata": {
    "execution": {
     "iopub.execute_input": "2022-07-12T11:33:09.517874Z",
     "iopub.status.busy": "2022-07-12T11:33:09.517434Z",
     "iopub.status.idle": "2022-07-12T11:33:09.539613Z",
     "shell.execute_reply": "2022-07-12T11:33:09.538477Z"
    },
    "papermill": {
     "duration": 0.030784,
     "end_time": "2022-07-12T11:33:09.541982",
     "exception": false,
     "start_time": "2022-07-12T11:33:09.511198",
     "status": "completed"
    },
    "tags": []
   },
   "outputs": [
    {
     "data": {
      "text/html": [
       "<div>\n",
       "<style scoped>\n",
       "    .dataframe tbody tr th:only-of-type {\n",
       "        vertical-align: middle;\n",
       "    }\n",
       "\n",
       "    .dataframe tbody tr th {\n",
       "        vertical-align: top;\n",
       "    }\n",
       "\n",
       "    .dataframe thead th {\n",
       "        text-align: right;\n",
       "    }\n",
       "</style>\n",
       "<table border=\"1\" class=\"dataframe\">\n",
       "  <thead>\n",
       "    <tr style=\"text-align: right;\">\n",
       "      <th></th>\n",
       "      <th>CustomerID</th>\n",
       "      <th>Genre</th>\n",
       "      <th>Age</th>\n",
       "      <th>Annual Income (k$)</th>\n",
       "      <th>Spending Score (1-100)</th>\n",
       "    </tr>\n",
       "  </thead>\n",
       "  <tbody>\n",
       "    <tr>\n",
       "      <th>0</th>\n",
       "      <td>1</td>\n",
       "      <td>Male</td>\n",
       "      <td>19</td>\n",
       "      <td>15</td>\n",
       "      <td>39</td>\n",
       "    </tr>\n",
       "    <tr>\n",
       "      <th>1</th>\n",
       "      <td>2</td>\n",
       "      <td>Male</td>\n",
       "      <td>21</td>\n",
       "      <td>15</td>\n",
       "      <td>81</td>\n",
       "    </tr>\n",
       "    <tr>\n",
       "      <th>2</th>\n",
       "      <td>3</td>\n",
       "      <td>Female</td>\n",
       "      <td>20</td>\n",
       "      <td>16</td>\n",
       "      <td>6</td>\n",
       "    </tr>\n",
       "    <tr>\n",
       "      <th>3</th>\n",
       "      <td>4</td>\n",
       "      <td>Female</td>\n",
       "      <td>23</td>\n",
       "      <td>16</td>\n",
       "      <td>77</td>\n",
       "    </tr>\n",
       "    <tr>\n",
       "      <th>4</th>\n",
       "      <td>5</td>\n",
       "      <td>Female</td>\n",
       "      <td>31</td>\n",
       "      <td>17</td>\n",
       "      <td>40</td>\n",
       "    </tr>\n",
       "  </tbody>\n",
       "</table>\n",
       "</div>"
      ],
      "text/plain": [
       "   CustomerID   Genre  Age  Annual Income (k$)  Spending Score (1-100)\n",
       "0           1    Male   19                  15                      39\n",
       "1           2    Male   21                  15                      81\n",
       "2           3  Female   20                  16                       6\n",
       "3           4  Female   23                  16                      77\n",
       "4           5  Female   31                  17                      40"
      ]
     },
     "execution_count": 3,
     "metadata": {},
     "output_type": "execute_result"
    }
   ],
   "source": [
    "dataset.head() # It will fetch the top 5 tuples from the dataset"
   ]
  },
  {
   "cell_type": "markdown",
   "id": "feb38e2e",
   "metadata": {
    "papermill": {
     "duration": 0.004805,
     "end_time": "2022-07-12T11:33:09.552000",
     "exception": false,
     "start_time": "2022-07-12T11:33:09.547195",
     "status": "completed"
    },
    "tags": []
   },
   "source": [
    "**As i am working with K-Means Clustering so I need only Annual Income & Spending Money Attributes**"
   ]
  },
  {
   "cell_type": "code",
   "execution_count": 4,
   "id": "b3e9509a",
   "metadata": {
    "execution": {
     "iopub.execute_input": "2022-07-12T11:33:09.564178Z",
     "iopub.status.busy": "2022-07-12T11:33:09.563534Z",
     "iopub.status.idle": "2022-07-12T11:33:09.574176Z",
     "shell.execute_reply": "2022-07-12T11:33:09.573228Z"
    },
    "papermill": {
     "duration": 0.019547,
     "end_time": "2022-07-12T11:33:09.576513",
     "exception": false,
     "start_time": "2022-07-12T11:33:09.556966",
     "status": "completed"
    },
    "tags": []
   },
   "outputs": [],
   "source": [
    "fields = dataset.iloc[:,[3,4]].values"
   ]
  },
  {
   "cell_type": "code",
   "execution_count": 5,
   "id": "e21a62ab",
   "metadata": {
    "execution": {
     "iopub.execute_input": "2022-07-12T11:33:09.589069Z",
     "iopub.status.busy": "2022-07-12T11:33:09.588199Z",
     "iopub.status.idle": "2022-07-12T11:33:09.595951Z",
     "shell.execute_reply": "2022-07-12T11:33:09.594732Z"
    },
    "papermill": {
     "duration": 0.01806,
     "end_time": "2022-07-12T11:33:09.599717",
     "exception": false,
     "start_time": "2022-07-12T11:33:09.581657",
     "status": "completed"
    },
    "tags": []
   },
   "outputs": [
    {
     "name": "stdout",
     "output_type": "stream",
     "text": [
      "[[ 15  39]\n",
      " [ 15  81]\n",
      " [ 16   6]\n",
      " [ 16  77]\n",
      " [ 17  40]\n",
      " [ 17  76]\n",
      " [ 18   6]\n",
      " [ 18  94]\n",
      " [ 19   3]\n",
      " [ 19  72]\n",
      " [ 19  14]\n",
      " [ 19  99]\n",
      " [ 20  15]\n",
      " [ 20  77]\n",
      " [ 20  13]\n",
      " [ 20  79]\n",
      " [ 21  35]\n",
      " [ 21  66]\n",
      " [ 23  29]\n",
      " [ 23  98]\n",
      " [ 24  35]\n",
      " [ 24  73]\n",
      " [ 25   5]\n",
      " [ 25  73]\n",
      " [ 28  14]\n",
      " [ 28  82]\n",
      " [ 28  32]\n",
      " [ 28  61]\n",
      " [ 29  31]\n",
      " [ 29  87]\n",
      " [ 30   4]\n",
      " [ 30  73]\n",
      " [ 33   4]\n",
      " [ 33  92]\n",
      " [ 33  14]\n",
      " [ 33  81]\n",
      " [ 34  17]\n",
      " [ 34  73]\n",
      " [ 37  26]\n",
      " [ 37  75]\n",
      " [ 38  35]\n",
      " [ 38  92]\n",
      " [ 39  36]\n",
      " [ 39  61]\n",
      " [ 39  28]\n",
      " [ 39  65]\n",
      " [ 40  55]\n",
      " [ 40  47]\n",
      " [ 40  42]\n",
      " [ 40  42]\n",
      " [ 42  52]\n",
      " [ 42  60]\n",
      " [ 43  54]\n",
      " [ 43  60]\n",
      " [ 43  45]\n",
      " [ 43  41]\n",
      " [ 44  50]\n",
      " [ 44  46]\n",
      " [ 46  51]\n",
      " [ 46  46]\n",
      " [ 46  56]\n",
      " [ 46  55]\n",
      " [ 47  52]\n",
      " [ 47  59]\n",
      " [ 48  51]\n",
      " [ 48  59]\n",
      " [ 48  50]\n",
      " [ 48  48]\n",
      " [ 48  59]\n",
      " [ 48  47]\n",
      " [ 49  55]\n",
      " [ 49  42]\n",
      " [ 50  49]\n",
      " [ 50  56]\n",
      " [ 54  47]\n",
      " [ 54  54]\n",
      " [ 54  53]\n",
      " [ 54  48]\n",
      " [ 54  52]\n",
      " [ 54  42]\n",
      " [ 54  51]\n",
      " [ 54  55]\n",
      " [ 54  41]\n",
      " [ 54  44]\n",
      " [ 54  57]\n",
      " [ 54  46]\n",
      " [ 57  58]\n",
      " [ 57  55]\n",
      " [ 58  60]\n",
      " [ 58  46]\n",
      " [ 59  55]\n",
      " [ 59  41]\n",
      " [ 60  49]\n",
      " [ 60  40]\n",
      " [ 60  42]\n",
      " [ 60  52]\n",
      " [ 60  47]\n",
      " [ 60  50]\n",
      " [ 61  42]\n",
      " [ 61  49]\n",
      " [ 62  41]\n",
      " [ 62  48]\n",
      " [ 62  59]\n",
      " [ 62  55]\n",
      " [ 62  56]\n",
      " [ 62  42]\n",
      " [ 63  50]\n",
      " [ 63  46]\n",
      " [ 63  43]\n",
      " [ 63  48]\n",
      " [ 63  52]\n",
      " [ 63  54]\n",
      " [ 64  42]\n",
      " [ 64  46]\n",
      " [ 65  48]\n",
      " [ 65  50]\n",
      " [ 65  43]\n",
      " [ 65  59]\n",
      " [ 67  43]\n",
      " [ 67  57]\n",
      " [ 67  56]\n",
      " [ 67  40]\n",
      " [ 69  58]\n",
      " [ 69  91]\n",
      " [ 70  29]\n",
      " [ 70  77]\n",
      " [ 71  35]\n",
      " [ 71  95]\n",
      " [ 71  11]\n",
      " [ 71  75]\n",
      " [ 71   9]\n",
      " [ 71  75]\n",
      " [ 72  34]\n",
      " [ 72  71]\n",
      " [ 73   5]\n",
      " [ 73  88]\n",
      " [ 73   7]\n",
      " [ 73  73]\n",
      " [ 74  10]\n",
      " [ 74  72]\n",
      " [ 75   5]\n",
      " [ 75  93]\n",
      " [ 76  40]\n",
      " [ 76  87]\n",
      " [ 77  12]\n",
      " [ 77  97]\n",
      " [ 77  36]\n",
      " [ 77  74]\n",
      " [ 78  22]\n",
      " [ 78  90]\n",
      " [ 78  17]\n",
      " [ 78  88]\n",
      " [ 78  20]\n",
      " [ 78  76]\n",
      " [ 78  16]\n",
      " [ 78  89]\n",
      " [ 78   1]\n",
      " [ 78  78]\n",
      " [ 78   1]\n",
      " [ 78  73]\n",
      " [ 79  35]\n",
      " [ 79  83]\n",
      " [ 81   5]\n",
      " [ 81  93]\n",
      " [ 85  26]\n",
      " [ 85  75]\n",
      " [ 86  20]\n",
      " [ 86  95]\n",
      " [ 87  27]\n",
      " [ 87  63]\n",
      " [ 87  13]\n",
      " [ 87  75]\n",
      " [ 87  10]\n",
      " [ 87  92]\n",
      " [ 88  13]\n",
      " [ 88  86]\n",
      " [ 88  15]\n",
      " [ 88  69]\n",
      " [ 93  14]\n",
      " [ 93  90]\n",
      " [ 97  32]\n",
      " [ 97  86]\n",
      " [ 98  15]\n",
      " [ 98  88]\n",
      " [ 99  39]\n",
      " [ 99  97]\n",
      " [101  24]\n",
      " [101  68]\n",
      " [103  17]\n",
      " [103  85]\n",
      " [103  23]\n",
      " [103  69]\n",
      " [113   8]\n",
      " [113  91]\n",
      " [120  16]\n",
      " [120  79]\n",
      " [126  28]\n",
      " [126  74]\n",
      " [137  18]\n",
      " [137  83]]\n"
     ]
    }
   ],
   "source": [
    "print(fields)"
   ]
  },
  {
   "cell_type": "markdown",
   "id": "3658c32a",
   "metadata": {
    "papermill": {
     "duration": 0.005047,
     "end_time": "2022-07-12T11:33:09.610860",
     "exception": false,
     "start_time": "2022-07-12T11:33:09.605813",
     "status": "completed"
    },
    "tags": []
   },
   "source": [
    "**Choose Number of Clusters**\n",
    "\n",
    "**Finding the optimal number of clusters is an important part of this algorithm. A commonly used method for finding optimal K value is Elbow Method.**\n",
    "\n",
    "**In the Elbow method, we are actually varying the number of clusters ( K ) from 1 – 10. For each value of K, we are calculating WCSS ( Within-Cluster Sum of Square ). WCSS is the sum of squared distance between each point and the centroid in a cluster. When we plot the WCSS with the K value, the plot looks like an Elbow. As the number of clusters increases, the WCSS value will start to decrease. WCSS value is largest when K = 1. When we analyze the graph we can see that the graph will rapidly change at a point and thus creating an elbow shape. From this point, the graph starts to move almost parallel to the X-axis. The K value corresponding to this point is the optimal K value or an optimal number of clusters.**"
   ]
  },
  {
   "cell_type": "code",
   "execution_count": 6,
   "id": "15ed4fc4",
   "metadata": {
    "execution": {
     "iopub.execute_input": "2022-07-12T11:33:09.623259Z",
     "iopub.status.busy": "2022-07-12T11:33:09.622864Z",
     "iopub.status.idle": "2022-07-12T11:33:10.069415Z",
     "shell.execute_reply": "2022-07-12T11:33:10.068054Z"
    },
    "papermill": {
     "duration": 0.456349,
     "end_time": "2022-07-12T11:33:10.072520",
     "exception": false,
     "start_time": "2022-07-12T11:33:09.616171",
     "status": "completed"
    },
    "tags": []
   },
   "outputs": [],
   "source": [
    "wcss = [] # empty list\n",
    "for index in range(1,11): # range 1 to 10 implies that between this range any no. of clusters can be formed\n",
    "    kmeans = KMeans(n_clusters = index, init = \"k-means++\", random_state = 2)\n",
    "    kmeans.fit(fields)\n",
    "    \n",
    "    wcss.append(kmeans.inertia_)"
   ]
  },
  {
   "cell_type": "markdown",
   "id": "8948c2f3",
   "metadata": {
    "papermill": {
     "duration": 0.006031,
     "end_time": "2022-07-12T11:33:10.084900",
     "exception": false,
     "start_time": "2022-07-12T11:33:10.078869",
     "status": "completed"
    },
    "tags": []
   },
   "source": [
    "**Let's plot the Elbow Method so that i can make out how many clusters will be formed **"
   ]
  },
  {
   "cell_type": "code",
   "execution_count": 7,
   "id": "6369e273",
   "metadata": {
    "execution": {
     "iopub.execute_input": "2022-07-12T11:33:10.098843Z",
     "iopub.status.busy": "2022-07-12T11:33:10.098404Z",
     "iopub.status.idle": "2022-07-12T11:33:10.369591Z",
     "shell.execute_reply": "2022-07-12T11:33:10.368181Z"
    },
    "papermill": {
     "duration": 0.28202,
     "end_time": "2022-07-12T11:33:10.372645",
     "exception": false,
     "start_time": "2022-07-12T11:33:10.090625",
     "status": "completed"
    },
    "tags": []
   },
   "outputs": [
    {
     "data": {
      "text/plain": [
       "Text(0, 0.5, 'WCSS')"
      ]
     },
     "execution_count": 7,
     "metadata": {},
     "output_type": "execute_result"
    },
    {
     "data": {
      "image/png": "[encoded data removed]",
      "text/plain": [
       "<Figure size 432x288 with 1 Axes>"
      ]
     },
     "metadata": {},
     "output_type": "display_data"
    }
   ],
   "source": [
    "sb.set()\n",
    "mp.plot(range(1,11), wcss)\n",
    "mp.title(\"K-Means Clustering\")\n",
    "mp.xlabel(\"Number of Cluster\")\n",
    "mp.ylabel(\"WCSS\")\n"
   ]
  },
  {
   "cell_type": "markdown",
   "id": "c319cc7e",
   "metadata": {
    "papermill": {
     "duration": 0.006003,
     "end_time": "2022-07-12T11:33:10.384734",
     "exception": false,
     "start_time": "2022-07-12T11:33:10.378731",
     "status": "completed"
    },
    "tags": []
   },
   "source": [
    "**After plotting the Elbow Method , i have make out that 5 clusters will be formed based on the provided datasets**"
   ]
  },
  {
   "cell_type": "code",
   "execution_count": 8,
   "id": "22ca4f39",
   "metadata": {
    "execution": {
     "iopub.execute_input": "2022-07-12T11:33:10.398997Z",
     "iopub.status.busy": "2022-07-12T11:33:10.398539Z",
     "iopub.status.idle": "2022-07-12T11:33:10.435654Z",
     "shell.execute_reply": "2022-07-12T11:33:10.434416Z"
    },
    "papermill": {
     "duration": 0.047385,
     "end_time": "2022-07-12T11:33:10.438282",
     "exception": false,
     "start_time": "2022-07-12T11:33:10.390897",
     "status": "completed"
    },
    "tags": []
   },
   "outputs": [
    {
     "name": "stdout",
     "output_type": "stream",
     "text": [
      "[2 3 2 3 2 3 2 3 2 3 2 3 2 3 2 3 2 3 2 3 2 3 2 3 2 3 2 3 2 3 2 3 2 3 2 3 2\n",
      " 3 2 3 2 3 2 0 2 3 0 0 0 0 0 0 0 0 0 0 0 0 0 0 0 0 0 0 0 0 0 0 0 0 0 0 0 0\n",
      " 0 0 0 0 0 0 0 0 0 0 0 0 0 0 0 0 0 0 0 0 0 0 0 0 0 0 0 0 0 0 0 0 0 0 0 0 0\n",
      " 0 0 0 0 0 0 0 0 0 0 0 0 4 1 4 0 4 1 4 1 4 0 4 1 4 1 4 1 4 1 4 0 4 1 4 1 4\n",
      " 1 4 1 4 1 4 1 4 1 4 1 4 1 4 1 4 1 4 1 4 1 4 1 4 1 4 1 4 1 4 1 4 1 4 1 4 1\n",
      " 4 1 4 1 4 1 4 1 4 1 4 1 4 1 4]\n"
     ]
    }
   ],
   "source": [
    "kmeans = KMeans(n_clusters=5, init=\"k-means++\",random_state=42)\n",
    "\n",
    "cluster_values = kmeans.fit_predict(fields)\n",
    "print(cluster_values)"
   ]
  },
  {
   "cell_type": "markdown",
   "id": "9e61bc36",
   "metadata": {
    "papermill": {
     "duration": 0.006731,
     "end_time": "2022-07-12T11:33:10.452030",
     "exception": false,
     "start_time": "2022-07-12T11:33:10.445299",
     "status": "completed"
    },
    "tags": []
   },
   "source": [
    "**Now, Let's Visualize all the clusters**"
   ]
  },
  {
   "cell_type": "code",
   "execution_count": 9,
   "id": "3bc3f424",
   "metadata": {
    "execution": {
     "iopub.execute_input": "2022-07-12T11:33:10.466231Z",
     "iopub.status.busy": "2022-07-12T11:33:10.465816Z",
     "iopub.status.idle": "2022-07-12T11:33:10.807830Z",
     "shell.execute_reply": "2022-07-12T11:33:10.806589Z"
    },
    "papermill": {
     "duration": 0.352112,
     "end_time": "2022-07-12T11:33:10.810491",
     "exception": false,
     "start_time": "2022-07-12T11:33:10.458379",
     "status": "completed"
    },
    "tags": []
   },
   "outputs": [
    {
     "data": {
      "text/plain": [
       "Text(0, 0.5, 'Spending Money')"
      ]
     },
     "execution_count": 9,
     "metadata": {},
     "output_type": "execute_result"
    },
    {
     "data": {
      "image/png": "[encoded data removed]",
      "text/plain": [
       "<Figure size 720x720 with 1 Axes>"
      ]
     },
     "metadata": {},
     "output_type": "display_data"
    }
   ],
   "source": [
    "mp.figure(figsize=(10,10))\n",
    "mp.scatter(fields[cluster_values==0,0], fields[cluster_values==0,1], s=50, c='blue', label = \"Cluster 1\")\n",
    "mp.scatter(fields[cluster_values==1,0], fields[cluster_values==1,1], s=50, c='orange', label = \"Cluster 1\")\n",
    "mp.scatter(fields[cluster_values==2,0], fields[cluster_values==2,1], s=50, c='green', label = \"Cluster 1\")\n",
    "mp.scatter(fields[cluster_values==3,0], fields[cluster_values==3,1], s=50, c='yellow', label = \"Cluster 1\")\n",
    "mp.scatter(fields[cluster_values==4,0], fields[cluster_values==4,1], s=50, c='red', label = \"Cluster 1\")\n",
    "\n",
    "mp.scatter(kmeans.cluster_centers_[:,0],kmeans.cluster_centers_[:,1], s=100, c=\"black\", label = \"Centroids\")\n",
    "\n",
    "mp.title(\"Customer Groups\")\n",
    "mp.xlabel(\"Annual Income\")\n",
    "mp.ylabel(\"Spending Money\")"
   ]
  }
 ],
 "metadata": {
  "kernelspec": {
   "display_name": "Python 3",
   "language": "python",
   "name": "python3"
  },
  "language_info": {
   "codemirror_mode": {
    "name": "ipython",
    "version": 3
   },
   "file_extension": ".py",
   "mimetype": "text/x-python",
   "name": "python",
   "nbconvert_exporter": "python",
   "pygments_lexer": "ipython3",
   "version": "3.7.12"
  },
  "papermill": {
   "default_parameters": {},
   "duration": 14.609923,
   "end_time": "2022-07-12T11:33:11.641124",
   "environment_variables": {},
   "exception": null,
   "input_path": "__notebook__.ipynb",
   "output_path": "__notebook__.ipynb",
   "parameters": {},
   "start_time": "2022-07-12T11:32:57.031201",
   "version": "2.3.4"
  }
 },
 "nbformat": 4,
 "nbformat_minor": 5
}
